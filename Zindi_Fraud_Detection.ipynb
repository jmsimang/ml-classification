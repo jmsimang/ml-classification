{
  "nbformat": 4,
  "nbformat_minor": 0,
  "metadata": {
    "colab": {
      "name": "Zindi Fraud Detection.ipynb",
      "version": "0.3.2",
      "provenance": [],
      "collapsed_sections": [],
      "include_colab_link": true
    },
    "kernelspec": {
      "name": "python3",
      "display_name": "Python 3"
    },
    "accelerator": "GPU"
  },
  "cells": [
    {
      "cell_type": "markdown",
      "metadata": {
        "id": "view-in-github",
        "colab_type": "text"
      },
      "source": [
        "<a href=\"https://colab.research.google.com/github/jmsimang/ml-classification/blob/master/Zindi_Fraud_Detection.ipynb\" target=\"_parent\"><img src=\"https://colab.research.google.com/assets/colab-badge.svg\" alt=\"Open In Colab\"/></a>"
      ]
    },
    {
      "cell_type": "markdown",
      "metadata": {
        "id": "wbdrvLwEqY8g",
        "colab_type": "text"
      },
      "source": [
        "# ZINDI Fraud Detection\n",
        "\n",
        "# 1. Libraries & Datasets\n",
        "\n",
        "## Import Libraries"
      ]
    },
    {
      "cell_type": "code",
      "metadata": {
        "id": "kcVBSm5ZpbQ8",
        "colab_type": "code",
        "colab": {}
      },
      "source": [
        "import numpy as np\n",
        "import pandas as pd\n",
        "import matplotlib.pyplot as plt\n",
        "import seaborn as sns\n",
        "\n",
        "sns.set()\n",
        "sns.set_style('white')\n",
        "from sklearn.preprocessing import StandardScaler\n",
        "from sklearn.model_selection import train_test_split\n",
        "from sklearn.model_selection import GridSearchCV\n",
        "from sklearn.linear_model import LogisticRegression\n",
        "from sklearn.metrics import accuracy_score, classification_report, confusion_matrix, f1_score, recall_score"
      ],
      "execution_count": 0,
      "outputs": []
    },
    {
      "cell_type": "markdown",
      "metadata": {
        "id": "-xKQuIDdqrlz",
        "colab_type": "text"
      },
      "source": [
        "## Import Data"
      ]
    },
    {
      "cell_type": "code",
      "metadata": {
        "id": "7L_P19rAqppO",
        "colab_type": "code",
        "colab": {}
      },
      "source": [
        "train_raw = pd.read_csv('./training.csv')\n",
        "test_raw = pd.read_csv('./test.csv')"
      ],
      "execution_count": 0,
      "outputs": []
    },
    {
      "cell_type": "code",
      "metadata": {
        "id": "ggw0of4jrxYd",
        "colab_type": "code",
        "outputId": "a6c7fbf7-205b-47c7-a17b-29b98f57be97",
        "colab": {
          "base_uri": "https://localhost:8080/",
          "height": 34
        }
      },
      "source": [
        "train_raw.shape, test_raw.shape"
      ],
      "execution_count": 0,
      "outputs": [
        {
          "output_type": "execute_result",
          "data": {
            "text/plain": [
              "((95662, 16), (45019, 15))"
            ]
          },
          "metadata": {
            "tags": []
          },
          "execution_count": 355
        }
      ]
    },
    {
      "cell_type": "code",
      "metadata": {
        "id": "Qm-QamhWrG2E",
        "colab_type": "code",
        "outputId": "2d7106c2-d959-41b6-8856-e43000f1818d",
        "colab": {
          "base_uri": "https://localhost:8080/",
          "height": 226
        }
      },
      "source": [
        "train_raw.head()"
      ],
      "execution_count": 0,
      "outputs": [
        {
          "output_type": "execute_result",
          "data": {
            "text/html": [
              "<div>\n",
              "<style scoped>\n",
              "    .dataframe tbody tr th:only-of-type {\n",
              "        vertical-align: middle;\n",
              "    }\n",
              "\n",
              "    .dataframe tbody tr th {\n",
              "        vertical-align: top;\n",
              "    }\n",
              "\n",
              "    .dataframe thead th {\n",
              "        text-align: right;\n",
              "    }\n",
              "</style>\n",
              "<table border=\"1\" class=\"dataframe\">\n",
              "  <thead>\n",
              "    <tr style=\"text-align: right;\">\n",
              "      <th></th>\n",
              "      <th>TransactionId</th>\n",
              "      <th>BatchId</th>\n",
              "      <th>AccountId</th>\n",
              "      <th>SubscriptionId</th>\n",
              "      <th>CustomerId</th>\n",
              "      <th>CurrencyCode</th>\n",
              "      <th>CountryCode</th>\n",
              "      <th>ProviderId</th>\n",
              "      <th>ProductId</th>\n",
              "      <th>ProductCategory</th>\n",
              "      <th>ChannelId</th>\n",
              "      <th>Amount</th>\n",
              "      <th>Value</th>\n",
              "      <th>TransactionStartTime</th>\n",
              "      <th>PricingStrategy</th>\n",
              "      <th>FraudResult</th>\n",
              "    </tr>\n",
              "  </thead>\n",
              "  <tbody>\n",
              "    <tr>\n",
              "      <th>0</th>\n",
              "      <td>TransactionId_76871</td>\n",
              "      <td>BatchId_36123</td>\n",
              "      <td>AccountId_3957</td>\n",
              "      <td>SubscriptionId_887</td>\n",
              "      <td>CustomerId_4406</td>\n",
              "      <td>UGX</td>\n",
              "      <td>256</td>\n",
              "      <td>ProviderId_6</td>\n",
              "      <td>ProductId_10</td>\n",
              "      <td>airtime</td>\n",
              "      <td>ChannelId_3</td>\n",
              "      <td>1000.0</td>\n",
              "      <td>1000</td>\n",
              "      <td>2018-11-15T02:18:49Z</td>\n",
              "      <td>2</td>\n",
              "      <td>0</td>\n",
              "    </tr>\n",
              "    <tr>\n",
              "      <th>1</th>\n",
              "      <td>TransactionId_73770</td>\n",
              "      <td>BatchId_15642</td>\n",
              "      <td>AccountId_4841</td>\n",
              "      <td>SubscriptionId_3829</td>\n",
              "      <td>CustomerId_4406</td>\n",
              "      <td>UGX</td>\n",
              "      <td>256</td>\n",
              "      <td>ProviderId_4</td>\n",
              "      <td>ProductId_6</td>\n",
              "      <td>financial_services</td>\n",
              "      <td>ChannelId_2</td>\n",
              "      <td>-20.0</td>\n",
              "      <td>20</td>\n",
              "      <td>2018-11-15T02:19:08Z</td>\n",
              "      <td>2</td>\n",
              "      <td>0</td>\n",
              "    </tr>\n",
              "    <tr>\n",
              "      <th>2</th>\n",
              "      <td>TransactionId_26203</td>\n",
              "      <td>BatchId_53941</td>\n",
              "      <td>AccountId_4229</td>\n",
              "      <td>SubscriptionId_222</td>\n",
              "      <td>CustomerId_4683</td>\n",
              "      <td>UGX</td>\n",
              "      <td>256</td>\n",
              "      <td>ProviderId_6</td>\n",
              "      <td>ProductId_1</td>\n",
              "      <td>airtime</td>\n",
              "      <td>ChannelId_3</td>\n",
              "      <td>500.0</td>\n",
              "      <td>500</td>\n",
              "      <td>2018-11-15T02:44:21Z</td>\n",
              "      <td>2</td>\n",
              "      <td>0</td>\n",
              "    </tr>\n",
              "    <tr>\n",
              "      <th>3</th>\n",
              "      <td>TransactionId_380</td>\n",
              "      <td>BatchId_102363</td>\n",
              "      <td>AccountId_648</td>\n",
              "      <td>SubscriptionId_2185</td>\n",
              "      <td>CustomerId_988</td>\n",
              "      <td>UGX</td>\n",
              "      <td>256</td>\n",
              "      <td>ProviderId_1</td>\n",
              "      <td>ProductId_21</td>\n",
              "      <td>utility_bill</td>\n",
              "      <td>ChannelId_3</td>\n",
              "      <td>20000.0</td>\n",
              "      <td>21800</td>\n",
              "      <td>2018-11-15T03:32:55Z</td>\n",
              "      <td>2</td>\n",
              "      <td>0</td>\n",
              "    </tr>\n",
              "    <tr>\n",
              "      <th>4</th>\n",
              "      <td>TransactionId_28195</td>\n",
              "      <td>BatchId_38780</td>\n",
              "      <td>AccountId_4841</td>\n",
              "      <td>SubscriptionId_3829</td>\n",
              "      <td>CustomerId_988</td>\n",
              "      <td>UGX</td>\n",
              "      <td>256</td>\n",
              "      <td>ProviderId_4</td>\n",
              "      <td>ProductId_6</td>\n",
              "      <td>financial_services</td>\n",
              "      <td>ChannelId_2</td>\n",
              "      <td>-644.0</td>\n",
              "      <td>644</td>\n",
              "      <td>2018-11-15T03:34:21Z</td>\n",
              "      <td>2</td>\n",
              "      <td>0</td>\n",
              "    </tr>\n",
              "  </tbody>\n",
              "</table>\n",
              "</div>"
            ],
            "text/plain": [
              "         TransactionId         BatchId  ... PricingStrategy FraudResult\n",
              "0  TransactionId_76871   BatchId_36123  ...               2           0\n",
              "1  TransactionId_73770   BatchId_15642  ...               2           0\n",
              "2  TransactionId_26203   BatchId_53941  ...               2           0\n",
              "3    TransactionId_380  BatchId_102363  ...               2           0\n",
              "4  TransactionId_28195   BatchId_38780  ...               2           0\n",
              "\n",
              "[5 rows x 16 columns]"
            ]
          },
          "metadata": {
            "tags": []
          },
          "execution_count": 356
        }
      ]
    },
    {
      "cell_type": "code",
      "metadata": {
        "id": "K1DF0ps4rI-q",
        "colab_type": "code",
        "outputId": "e372f75a-a3d7-4673-bfd9-4716eb99b60b",
        "colab": {
          "base_uri": "https://localhost:8080/",
          "height": 226
        }
      },
      "source": [
        "test_raw.head()"
      ],
      "execution_count": 0,
      "outputs": [
        {
          "output_type": "execute_result",
          "data": {
            "text/html": [
              "<div>\n",
              "<style scoped>\n",
              "    .dataframe tbody tr th:only-of-type {\n",
              "        vertical-align: middle;\n",
              "    }\n",
              "\n",
              "    .dataframe tbody tr th {\n",
              "        vertical-align: top;\n",
              "    }\n",
              "\n",
              "    .dataframe thead th {\n",
              "        text-align: right;\n",
              "    }\n",
              "</style>\n",
              "<table border=\"1\" class=\"dataframe\">\n",
              "  <thead>\n",
              "    <tr style=\"text-align: right;\">\n",
              "      <th></th>\n",
              "      <th>TransactionId</th>\n",
              "      <th>BatchId</th>\n",
              "      <th>AccountId</th>\n",
              "      <th>SubscriptionId</th>\n",
              "      <th>CustomerId</th>\n",
              "      <th>CurrencyCode</th>\n",
              "      <th>CountryCode</th>\n",
              "      <th>ProviderId</th>\n",
              "      <th>ProductId</th>\n",
              "      <th>ProductCategory</th>\n",
              "      <th>ChannelId</th>\n",
              "      <th>Amount</th>\n",
              "      <th>Value</th>\n",
              "      <th>TransactionStartTime</th>\n",
              "      <th>PricingStrategy</th>\n",
              "    </tr>\n",
              "  </thead>\n",
              "  <tbody>\n",
              "    <tr>\n",
              "      <th>0</th>\n",
              "      <td>TransactionId_50600</td>\n",
              "      <td>BatchId_35028</td>\n",
              "      <td>AccountId_2441</td>\n",
              "      <td>SubscriptionId_4426</td>\n",
              "      <td>CustomerId_2857</td>\n",
              "      <td>UGX</td>\n",
              "      <td>256</td>\n",
              "      <td>ProviderId_5</td>\n",
              "      <td>ProductId_3</td>\n",
              "      <td>airtime</td>\n",
              "      <td>ChannelId_3</td>\n",
              "      <td>1000.0</td>\n",
              "      <td>1000</td>\n",
              "      <td>2019-02-13T10:01:40Z</td>\n",
              "      <td>4</td>\n",
              "    </tr>\n",
              "    <tr>\n",
              "      <th>1</th>\n",
              "      <td>TransactionId_95109</td>\n",
              "      <td>BatchId_45139</td>\n",
              "      <td>AccountId_3439</td>\n",
              "      <td>SubscriptionId_2643</td>\n",
              "      <td>CustomerId_3874</td>\n",
              "      <td>UGX</td>\n",
              "      <td>256</td>\n",
              "      <td>ProviderId_5</td>\n",
              "      <td>ProductId_15</td>\n",
              "      <td>financial_services</td>\n",
              "      <td>ChannelId_3</td>\n",
              "      <td>2000.0</td>\n",
              "      <td>2000</td>\n",
              "      <td>2019-02-13T10:02:12Z</td>\n",
              "      <td>2</td>\n",
              "    </tr>\n",
              "    <tr>\n",
              "      <th>2</th>\n",
              "      <td>TransactionId_47357</td>\n",
              "      <td>BatchId_74887</td>\n",
              "      <td>AccountId_4841</td>\n",
              "      <td>SubscriptionId_3829</td>\n",
              "      <td>CustomerId_2857</td>\n",
              "      <td>UGX</td>\n",
              "      <td>256</td>\n",
              "      <td>ProviderId_4</td>\n",
              "      <td>ProductId_6</td>\n",
              "      <td>financial_services</td>\n",
              "      <td>ChannelId_2</td>\n",
              "      <td>-50.0</td>\n",
              "      <td>50</td>\n",
              "      <td>2019-02-13T10:02:30Z</td>\n",
              "      <td>2</td>\n",
              "    </tr>\n",
              "    <tr>\n",
              "      <th>3</th>\n",
              "      <td>TransactionId_28185</td>\n",
              "      <td>BatchId_11025</td>\n",
              "      <td>AccountId_2685</td>\n",
              "      <td>SubscriptionId_4626</td>\n",
              "      <td>CustomerId_3105</td>\n",
              "      <td>UGX</td>\n",
              "      <td>256</td>\n",
              "      <td>ProviderId_5</td>\n",
              "      <td>ProductId_10</td>\n",
              "      <td>airtime</td>\n",
              "      <td>ChannelId_3</td>\n",
              "      <td>3000.0</td>\n",
              "      <td>3000</td>\n",
              "      <td>2019-02-13T10:02:38Z</td>\n",
              "      <td>4</td>\n",
              "    </tr>\n",
              "    <tr>\n",
              "      <th>4</th>\n",
              "      <td>TransactionId_22140</td>\n",
              "      <td>BatchId_29804</td>\n",
              "      <td>AccountId_4841</td>\n",
              "      <td>SubscriptionId_3829</td>\n",
              "      <td>CustomerId_3105</td>\n",
              "      <td>UGX</td>\n",
              "      <td>256</td>\n",
              "      <td>ProviderId_4</td>\n",
              "      <td>ProductId_6</td>\n",
              "      <td>financial_services</td>\n",
              "      <td>ChannelId_2</td>\n",
              "      <td>-60.0</td>\n",
              "      <td>60</td>\n",
              "      <td>2019-02-13T10:02:58Z</td>\n",
              "      <td>2</td>\n",
              "    </tr>\n",
              "  </tbody>\n",
              "</table>\n",
              "</div>"
            ],
            "text/plain": [
              "         TransactionId        BatchId  ...  TransactionStartTime PricingStrategy\n",
              "0  TransactionId_50600  BatchId_35028  ...  2019-02-13T10:01:40Z               4\n",
              "1  TransactionId_95109  BatchId_45139  ...  2019-02-13T10:02:12Z               2\n",
              "2  TransactionId_47357  BatchId_74887  ...  2019-02-13T10:02:30Z               2\n",
              "3  TransactionId_28185  BatchId_11025  ...  2019-02-13T10:02:38Z               4\n",
              "4  TransactionId_22140  BatchId_29804  ...  2019-02-13T10:02:58Z               2\n",
              "\n",
              "[5 rows x 15 columns]"
            ]
          },
          "metadata": {
            "tags": []
          },
          "execution_count": 357
        }
      ]
    },
    {
      "cell_type": "code",
      "metadata": {
        "id": "RkYFflNDrLOc",
        "colab_type": "code",
        "colab": {}
      },
      "source": [
        "# train_raw['ProductId'].value_counts()"
      ],
      "execution_count": 0,
      "outputs": []
    },
    {
      "cell_type": "markdown",
      "metadata": {
        "id": "_lWcISVLqUwf",
        "colab_type": "text"
      },
      "source": [
        "# 2. EDA\n",
        "\n",
        "## Standardize amount variable\n",
        "\n",
        "Let's standardize the amount variable to use a smaller scale"
      ]
    },
    {
      "cell_type": "code",
      "metadata": {
        "id": "DQ-19UQyoNxl",
        "colab_type": "code",
        "colab": {}
      },
      "source": [
        "train_raw['Amount'] = StandardScaler().fit_transform(train_raw[['Amount']])\n",
        "train_raw['Value'] = StandardScaler().fit_transform(train_raw[['Value']])\n",
        "test_raw['Amount'] = StandardScaler().fit_transform(test_raw[['Amount']])\n",
        "test_raw['Value'] = StandardScaler().fit_transform(test_raw[['Value']])"
      ],
      "execution_count": 0,
      "outputs": []
    },
    {
      "cell_type": "markdown",
      "metadata": {
        "id": "QDbnYaMioTGQ",
        "colab_type": "text"
      },
      "source": [
        "## Output variable\n",
        "\n",
        "Let's save the output variable and the length of both datasets"
      ]
    },
    {
      "cell_type": "code",
      "metadata": {
        "id": "utpS5kwluHdh",
        "colab_type": "code",
        "colab": {}
      },
      "source": [
        "y = train_raw['FraudResult']\n",
        "# X = train_raw[['ProviderId', 'ChannelId', 'Amount', 'TransactionStartTime', 'PricingStrategy']]\n",
        "X = train_raw[['AccountId','CustomerId', 'ProductId', 'ProductCategory', 'Value', 'TransactionStartTime', 'PricingStrategy', 'ChannelId']].copy()\n",
        "\n",
        "test_transaction_id = test_raw['TransactionId']\n",
        "test = test_raw[['AccountId','CustomerId', 'ProductId', 'ProductCategory', 'Value', 'TransactionStartTime', 'PricingStrategy', 'ChannelId']].copy()\n"
      ],
      "execution_count": 0,
      "outputs": []
    },
    {
      "cell_type": "code",
      "metadata": {
        "id": "eMeASJw4uhqN",
        "colab_type": "code",
        "colab": {}
      },
      "source": [
        "X2 = train_raw.drop('FraudResult', axis=1)\n",
        "test2 = test_raw.copy()"
      ],
      "execution_count": 0,
      "outputs": []
    },
    {
      "cell_type": "code",
      "metadata": {
        "id": "1rTcGxDlt7-4",
        "colab_type": "code",
        "outputId": "4c6852e3-cd67-4335-c6a6-8b5b795d0666",
        "colab": {
          "base_uri": "https://localhost:8080/",
          "height": 411
        }
      },
      "source": [
        "fig, ax = plt.subplots(figsize=(20, 6))\n",
        "ax = sns.countplot(y='FraudResult', hue='FraudResult', data=train_raw)\n",
        "ax.set_yticklabels(['Not Fraud', 'Fraud'])\n",
        "sns.despine(left=True, bottom=True, top=True, right=True)\n",
        "plt.xlabel('Number of transactions')\n",
        "plt.ylabel('')\n",
        "plt.title('Transaction Distribution', fontsize=14)\n",
        "plt.legend(train_raw.FraudResult.value_counts(), loc='center right')\n",
        "plt.show()"
      ],
      "execution_count": 0,
      "outputs": [
        {
          "output_type": "display_data",
          "data": {
            "image/png": "[encoded data removed]",
            "text/plain": [
              "<Figure size 1440x432 with 1 Axes>"
            ]
          },
          "metadata": {
            "tags": []
          }
        }
      ]
    },
    {
      "cell_type": "code",
      "metadata": {
        "id": "9Xk1m5w-3c1d",
        "colab_type": "code",
        "outputId": "0fdf9944-7b11-4fe8-f77d-537f4fc2d441",
        "colab": {
          "base_uri": "https://localhost:8080/",
          "height": 34
        }
      },
      "source": [
        "np.round((len(train_raw.loc[train_raw.FraudResult==1])) / (len(train_raw.loc[train_raw.FraudResult == 0])) * 100, 4)"
      ],
      "execution_count": 0,
      "outputs": [
        {
          "output_type": "execute_result",
          "data": {
            "text/plain": [
              "0.2022"
            ]
          },
          "metadata": {
            "tags": []
          },
          "execution_count": 363
        }
      ]
    },
    {
      "cell_type": "markdown",
      "metadata": {
        "id": "LeYDmUXK3S8_",
        "colab_type": "text"
      },
      "source": [
        "The above graph shows an imbalance in the data where 0.20% of the training dataset belongs to the Fraudulent transactions.\n",
        "\n",
        "This is a problem because many machine learning models are designed to maximize overall accuracy, which especially with imbalanced classes may not be the best metric to use."
      ]
    },
    {
      "cell_type": "code",
      "metadata": {
        "id": "sLHDU2xRoDLq",
        "colab_type": "code",
        "colab": {}
      },
      "source": [
        ""
      ],
      "execution_count": 0,
      "outputs": []
    },
    {
      "cell_type": "markdown",
      "metadata": {
        "id": "hf5gbVXj4jWe",
        "colab_type": "text"
      },
      "source": [
        "## Split Data"
      ]
    },
    {
      "cell_type": "markdown",
      "metadata": {
        "id": "NWgH-nxK6ss7",
        "colab_type": "text"
      },
      "source": [
        "### One-Hot Encoding for non-numeric features (this is needed by the classifier)"
      ]
    },
    {
      "cell_type": "code",
      "metadata": {
        "id": "4bUvhORVA0M9",
        "colab_type": "code",
        "colab": {}
      },
      "source": [
        "from sklearn.preprocessing import OneHotEncoder"
      ],
      "execution_count": 0,
      "outputs": []
    },
    {
      "cell_type": "code",
      "metadata": {
        "id": "F4kxmypaeBkY",
        "colab_type": "code",
        "colab": {}
      },
      "source": [
        "# Create the encoder.\n",
        "encoder = OneHotEncoder(handle_unknown='ignore')\n",
        "encoder2 = OneHotEncoder(handle_unknown='ignore')"
      ],
      "execution_count": 0,
      "outputs": []
    },
    {
      "cell_type": "code",
      "metadata": {
        "id": "IDwNkReEgORJ",
        "colab_type": "code",
        "outputId": "96574bd2-90d9-477d-bef0-3e8e72d38dcf",
        "colab": {
          "base_uri": "https://localhost:8080/",
          "height": 69
        }
      },
      "source": [
        "encoder.fit(X)\n",
        "encoder2.fit(X2)"
      ],
      "execution_count": 0,
      "outputs": [
        {
          "output_type": "execute_result",
          "data": {
            "text/plain": [
              "OneHotEncoder(categorical_features=None, categories=None, drop=None,\n",
              "              dtype=<class 'numpy.float64'>, handle_unknown='ignore',\n",
              "              n_values=None, sparse=True)"
            ]
          },
          "metadata": {
            "tags": []
          },
          "execution_count": 366
        }
      ]
    },
    {
      "cell_type": "code",
      "metadata": {
        "id": "Fqcsmlh5A7eM",
        "colab_type": "code",
        "colab": {}
      },
      "source": [
        "X_transformed = encoder.transform(X)\n",
        "test_transformed = encoder.transform(test)"
      ],
      "execution_count": 0,
      "outputs": []
    },
    {
      "cell_type": "code",
      "metadata": {
        "id": "LpqojF65CqJG",
        "colab_type": "code",
        "colab": {}
      },
      "source": [
        "X_transformed2 = encoder2.transform(X2)\n",
        "test_transformed2 = encoder2.transform(test2)"
      ],
      "execution_count": 0,
      "outputs": []
    },
    {
      "cell_type": "code",
      "metadata": {
        "id": "aCaZ5GE66ryS",
        "colab_type": "code",
        "outputId": "6f5580eb-73a3-4567-af39-45f7f25c995b",
        "colab": {
          "base_uri": "https://localhost:8080/",
          "height": 86
        }
      },
      "source": [
        "# Transforming the Features\n",
        "X_transformed, test_transformed"
      ],
      "execution_count": 0,
      "outputs": [
        {
          "output_type": "execute_result",
          "data": {
            "text/plain": [
              "(<95662x103488 sparse matrix of type '<class 'numpy.float64'>'\n",
              " \twith 765296 stored elements in Compressed Sparse Row format>,\n",
              " <45019x103488 sparse matrix of type '<class 'numpy.float64'>'\n",
              " \twith 246278 stored elements in Compressed Sparse Row format>)"
            ]
          },
          "metadata": {
            "tags": []
          },
          "execution_count": 369
        }
      ]
    },
    {
      "cell_type": "code",
      "metadata": {
        "id": "v8Rl85GyCnFX",
        "colab_type": "code",
        "outputId": "bf1a9aea-bcf3-4442-eaaf-db241626123a",
        "colab": {
          "base_uri": "https://localhost:8080/",
          "height": 86
        }
      },
      "source": [
        "X_transformed2, test_transformed2"
      ],
      "execution_count": 0,
      "outputs": [
        {
          "output_type": "execute_result",
          "data": {
            "text/plain": [
              "(<95662x299270 sparse matrix of type '<class 'numpy.float64'>'\n",
              " \twith 1434930 stored elements in Compressed Sparse Row format>,\n",
              " <45019x299270 sparse matrix of type '<class 'numpy.float64'>'\n",
              " \twith 416403 stored elements in Compressed Sparse Row format>)"
            ]
          },
          "metadata": {
            "tags": []
          },
          "execution_count": 370
        }
      ]
    },
    {
      "cell_type": "code",
      "metadata": {
        "id": "HqOgrymmxUhh",
        "colab_type": "code",
        "colab": {}
      },
      "source": [
        "X_train, X_test, y_train, y_test = train_test_split(X_transformed, y, test_size=0.25, random_state=42)\n",
        "X_train2, X_test2, y_train2, y_test2 = train_test_split(X_transformed2, y, test_size=0.25, random_state=42)"
      ],
      "execution_count": 0,
      "outputs": []
    },
    {
      "cell_type": "code",
      "metadata": {
        "id": "6AvF3-gL5bRN",
        "colab_type": "code",
        "outputId": "eb5a4b62-51f2-4fbc-92ef-641523e72c31",
        "colab": {
          "base_uri": "https://localhost:8080/",
          "height": 34
        }
      },
      "source": [
        "X_train.shape, X_test.shape, y_train.shape, y_test.shape"
      ],
      "execution_count": 0,
      "outputs": [
        {
          "output_type": "execute_result",
          "data": {
            "text/plain": [
              "((71746, 103488), (23916, 103488), (71746,), (23916,))"
            ]
          },
          "metadata": {
            "tags": []
          },
          "execution_count": 372
        }
      ]
    },
    {
      "cell_type": "code",
      "metadata": {
        "id": "fCyRaSroDoP-",
        "colab_type": "code",
        "outputId": "3af05348-00a3-40a4-ed1c-276c13413495",
        "colab": {
          "base_uri": "https://localhost:8080/",
          "height": 34
        }
      },
      "source": [
        "X_train2.shape, X_test2.shape, y_train2.shape, y_test2.shape"
      ],
      "execution_count": 0,
      "outputs": [
        {
          "output_type": "execute_result",
          "data": {
            "text/plain": [
              "((71746, 299270), (23916, 299270), (71746,), (23916,))"
            ]
          },
          "metadata": {
            "tags": []
          },
          "execution_count": 373
        }
      ]
    },
    {
      "cell_type": "markdown",
      "metadata": {
        "id": "xq-0-LqL6V0c",
        "colab_type": "text"
      },
      "source": [
        "We can then proceed to create our classification model."
      ]
    },
    {
      "cell_type": "markdown",
      "metadata": {
        "id": "DMhiezHj5SpZ",
        "colab_type": "text"
      },
      "source": [
        "## Machine Learning Classifier"
      ]
    },
    {
      "cell_type": "code",
      "metadata": {
        "id": "fLegq_4A5TbH",
        "colab_type": "code",
        "colab": {}
      },
      "source": [
        "log_reg = LogisticRegression(C=90, solver='liblinear', class_weight='balanced')\n",
        "log_reg2 = LogisticRegression(C=90, solver='liblinear', class_weight='balanced', n_jobs=12)"
      ],
      "execution_count": 0,
      "outputs": []
    },
    {
      "cell_type": "code",
      "metadata": {
        "id": "3l2iCMUQ6Inw",
        "colab_type": "code",
        "outputId": "15fe39df-1f9d-43ea-86a2-017a8cbe160c",
        "colab": {
          "base_uri": "https://localhost:8080/",
          "height": 104
        }
      },
      "source": [
        "log_reg.fit(X_train, y_train)"
      ],
      "execution_count": 0,
      "outputs": [
        {
          "output_type": "execute_result",
          "data": {
            "text/plain": [
              "LogisticRegression(C=90, class_weight='balanced', dual=False,\n",
              "                   fit_intercept=True, intercept_scaling=1, l1_ratio=None,\n",
              "                   max_iter=100, multi_class='warn', n_jobs=None, penalty='l2',\n",
              "                   random_state=None, solver='liblinear', tol=0.0001, verbose=0,\n",
              "                   warm_start=False)"
            ]
          },
          "metadata": {
            "tags": []
          },
          "execution_count": 401
        }
      ]
    },
    {
      "cell_type": "code",
      "metadata": {
        "id": "kSjrxxY9D62n",
        "colab_type": "code",
        "outputId": "df7bbadc-ab51-42e5-afb8-7d5d4eaa7673",
        "colab": {
          "base_uri": "https://localhost:8080/",
          "height": 159
        }
      },
      "source": [
        "log_reg2.fit(X_train2, y_train2)"
      ],
      "execution_count": 0,
      "outputs": [
        {
          "output_type": "stream",
          "text": [
            "/usr/local/lib/python3.6/dist-packages/sklearn/linear_model/logistic.py:1544: UserWarning: 'n_jobs' > 1 does not have any effect when 'solver' is set to 'liblinear'. Got 'n_jobs' = 12.\n",
            "  \" = {}.\".format(effective_n_jobs(self.n_jobs)))\n"
          ],
          "name": "stderr"
        },
        {
          "output_type": "execute_result",
          "data": {
            "text/plain": [
              "LogisticRegression(C=90, class_weight='balanced', dual=False,\n",
              "                   fit_intercept=True, intercept_scaling=1, l1_ratio=None,\n",
              "                   max_iter=100, multi_class='warn', n_jobs=12, penalty='l2',\n",
              "                   random_state=None, solver='liblinear', tol=0.0001, verbose=0,\n",
              "                   warm_start=False)"
            ]
          },
          "metadata": {
            "tags": []
          },
          "execution_count": 402
        }
      ]
    },
    {
      "cell_type": "code",
      "metadata": {
        "id": "W8QCbT4g6LfF",
        "colab_type": "code",
        "colab": {}
      },
      "source": [
        "y_pred_log_reg = log_reg.predict(X_test)\n",
        "y_pred_log_reg2 = log_reg2.predict(X_test2)"
      ],
      "execution_count": 0,
      "outputs": []
    },
    {
      "cell_type": "code",
      "metadata": {
        "id": "sX3UoibPB_d0",
        "colab_type": "code",
        "outputId": "1634c340-3a9c-4b71-aeed-225946c36c01",
        "colab": {
          "base_uri": "https://localhost:8080/",
          "height": 34
        }
      },
      "source": [
        "f1_score(y_test, y_pred_log_reg), f1_score(y_test2, y_pred_log_reg2)"
      ],
      "execution_count": 0,
      "outputs": [
        {
          "output_type": "execute_result",
          "data": {
            "text/plain": [
              "(0.8541666666666667, 0.8817204301075269)"
            ]
          },
          "metadata": {
            "tags": []
          },
          "execution_count": 404
        }
      ]
    },
    {
      "cell_type": "code",
      "metadata": {
        "id": "r3XtleNcCERi",
        "colab_type": "code",
        "outputId": "7d0e0aab-2248-46f3-aa42-1ae59da5a7af",
        "colab": {
          "base_uri": "https://localhost:8080/",
          "height": 173
        }
      },
      "source": [
        "print(classification_report(y_test, y_pred_log_reg, target_names=['Not fraud', 'Fraud']))"
      ],
      "execution_count": 0,
      "outputs": [
        {
          "output_type": "stream",
          "text": [
            "              precision    recall  f1-score   support\n",
            "\n",
            "   Not fraud       1.00      1.00      1.00     23869\n",
            "       Fraud       0.84      0.87      0.85        47\n",
            "\n",
            "    accuracy                           1.00     23916\n",
            "   macro avg       0.92      0.94      0.93     23916\n",
            "weighted avg       1.00      1.00      1.00     23916\n",
            "\n"
          ],
          "name": "stdout"
        }
      ]
    },
    {
      "cell_type": "code",
      "metadata": {
        "id": "h0l0khFOEo1a",
        "colab_type": "code",
        "outputId": "778ddaf9-1c3e-489a-e724-f147d45c2171",
        "colab": {
          "base_uri": "https://localhost:8080/",
          "height": 173
        }
      },
      "source": [
        "print(classification_report(y_test2, y_pred_log_reg2, target_names=['Not fraud', 'Fraud']))"
      ],
      "execution_count": 0,
      "outputs": [
        {
          "output_type": "stream",
          "text": [
            "              precision    recall  f1-score   support\n",
            "\n",
            "   Not fraud       1.00      1.00      1.00     23869\n",
            "       Fraud       0.89      0.87      0.88        47\n",
            "\n",
            "    accuracy                           1.00     23916\n",
            "   macro avg       0.95      0.94      0.94     23916\n",
            "weighted avg       1.00      1.00      1.00     23916\n",
            "\n"
          ],
          "name": "stdout"
        }
      ]
    },
    {
      "cell_type": "markdown",
      "metadata": {
        "id": "KFo7WBdFpa2o",
        "colab_type": "text"
      },
      "source": [
        " "
      ]
    },
    {
      "cell_type": "markdown",
      "metadata": {
        "id": "PaKMee67FmNK",
        "colab_type": "text"
      },
      "source": [
        "### Random Forest Classifier"
      ]
    },
    {
      "cell_type": "code",
      "metadata": {
        "id": "x-Qsw-U0FLM6",
        "colab_type": "code",
        "colab": {}
      },
      "source": [
        "from sklearn.ensemble import RandomForestClassifier"
      ],
      "execution_count": 0,
      "outputs": []
    },
    {
      "cell_type": "code",
      "metadata": {
        "id": "bkxp6nfwFqS2",
        "colab_type": "code",
        "colab": {}
      },
      "source": [
        "rfc = RandomForestClassifier(n_estimators=150, class_weight='balanced')\n",
        "rfc2 = RandomForestClassifier(n_estimators=150, class_weight='balanced')"
      ],
      "execution_count": 0,
      "outputs": []
    },
    {
      "cell_type": "code",
      "metadata": {
        "id": "JQ3wbhGIFqdK",
        "colab_type": "code",
        "outputId": "7e5e32d9-5d9c-4beb-9531-f69155d009c2",
        "colab": {
          "base_uri": "https://localhost:8080/",
          "height": 139
        }
      },
      "source": [
        "rfc.fit(X_train, y_train)"
      ],
      "execution_count": 0,
      "outputs": [
        {
          "output_type": "execute_result",
          "data": {
            "text/plain": [
              "RandomForestClassifier(bootstrap=True, class_weight='balanced',\n",
              "                       criterion='gini', max_depth=None, max_features='auto',\n",
              "                       max_leaf_nodes=None, min_impurity_decrease=0.0,\n",
              "                       min_impurity_split=None, min_samples_leaf=1,\n",
              "                       min_samples_split=2, min_weight_fraction_leaf=0.0,\n",
              "                       n_estimators=150, n_jobs=None, oob_score=False,\n",
              "                       random_state=None, verbose=0, warm_start=False)"
            ]
          },
          "metadata": {
            "tags": []
          },
          "execution_count": 382
        }
      ]
    },
    {
      "cell_type": "code",
      "metadata": {
        "id": "GimTE9pqFqx8",
        "colab_type": "code",
        "outputId": "874c92db-9e9e-480b-f1aa-39f1c6a965f6",
        "colab": {
          "base_uri": "https://localhost:8080/",
          "height": 139
        }
      },
      "source": [
        "rfc2.fit(X_train2, y_train2)"
      ],
      "execution_count": 0,
      "outputs": [
        {
          "output_type": "execute_result",
          "data": {
            "text/plain": [
              "RandomForestClassifier(bootstrap=True, class_weight='balanced',\n",
              "                       criterion='gini', max_depth=None, max_features='auto',\n",
              "                       max_leaf_nodes=None, min_impurity_decrease=0.0,\n",
              "                       min_impurity_split=None, min_samples_leaf=1,\n",
              "                       min_samples_split=2, min_weight_fraction_leaf=0.0,\n",
              "                       n_estimators=150, n_jobs=None, oob_score=False,\n",
              "                       random_state=None, verbose=0, warm_start=False)"
            ]
          },
          "metadata": {
            "tags": []
          },
          "execution_count": 383
        }
      ]
    },
    {
      "cell_type": "code",
      "metadata": {
        "id": "mxAGXE9KFq6d",
        "colab_type": "code",
        "colab": {}
      },
      "source": [
        "y_pred_rfc = rfc.predict(X_test)\n",
        "y_pred_rfc2 = rfc2.predict(X_test2)"
      ],
      "execution_count": 0,
      "outputs": []
    },
    {
      "cell_type": "code",
      "metadata": {
        "id": "aRfWC74HPo0J",
        "colab_type": "code",
        "outputId": "fdc8ca51-39b7-4d33-aa54-beba162549e3",
        "colab": {
          "base_uri": "https://localhost:8080/",
          "height": 173
        }
      },
      "source": [
        "print(classification_report(y_test, y_pred_rfc, target_names=['Not fraud', 'Fraud']))"
      ],
      "execution_count": 0,
      "outputs": [
        {
          "output_type": "stream",
          "text": [
            "              precision    recall  f1-score   support\n",
            "\n",
            "   Not fraud       1.00      1.00      1.00     23869\n",
            "       Fraud       0.96      0.55      0.70        47\n",
            "\n",
            "    accuracy                           1.00     23916\n",
            "   macro avg       0.98      0.78      0.85     23916\n",
            "weighted avg       1.00      1.00      1.00     23916\n",
            "\n"
          ],
          "name": "stdout"
        }
      ]
    },
    {
      "cell_type": "code",
      "metadata": {
        "id": "FO5uzJUQP8b6",
        "colab_type": "code",
        "outputId": "1a0bad38-9906-41fe-fcc7-ec5930fa7013",
        "colab": {
          "base_uri": "https://localhost:8080/",
          "height": 173
        }
      },
      "source": [
        "print(classification_report(y_test2, y_pred_rfc2, target_names=['Not fraud', 'Fraud']))"
      ],
      "execution_count": 0,
      "outputs": [
        {
          "output_type": "stream",
          "text": [
            "              precision    recall  f1-score   support\n",
            "\n",
            "   Not fraud       1.00      1.00      1.00     23869\n",
            "       Fraud       0.94      0.32      0.48        47\n",
            "\n",
            "    accuracy                           1.00     23916\n",
            "   macro avg       0.97      0.66      0.74     23916\n",
            "weighted avg       1.00      1.00      1.00     23916\n",
            "\n"
          ],
          "name": "stdout"
        }
      ]
    },
    {
      "cell_type": "code",
      "metadata": {
        "id": "uHzogZ6gGtB9",
        "colab_type": "code",
        "outputId": "56a9d1c6-3a68-4a2f-d197-df1dedcf3674",
        "colab": {
          "base_uri": "https://localhost:8080/",
          "height": 34
        }
      },
      "source": [
        "f1_score(y_test, y_pred_rfc), f1_score(y_test2, y_pred_rfc2)"
      ],
      "execution_count": 0,
      "outputs": [
        {
          "output_type": "execute_result",
          "data": {
            "text/plain": [
              "(0.7027027027027027, 0.4761904761904763)"
            ]
          },
          "metadata": {
            "tags": []
          },
          "execution_count": 387
        }
      ]
    },
    {
      "cell_type": "code",
      "metadata": {
        "id": "nQ-3AUh3G27l",
        "colab_type": "code",
        "colab": {}
      },
      "source": [
        ""
      ],
      "execution_count": 0,
      "outputs": []
    },
    {
      "cell_type": "markdown",
      "metadata": {
        "id": "Zert2o0ALWWW",
        "colab_type": "text"
      },
      "source": [
        "## Submission"
      ]
    },
    {
      "cell_type": "markdown",
      "metadata": {
        "id": "4-V5IwU_Zevk",
        "colab_type": "text"
      },
      "source": [
        "Random Forest Classifier"
      ]
    },
    {
      "cell_type": "code",
      "metadata": {
        "id": "WZLSEhSALXrP",
        "colab_type": "code",
        "colab": {}
      },
      "source": [
        "# y_rfc_submission = rfc.predict(test_transformed)"
      ],
      "execution_count": 0,
      "outputs": []
    },
    {
      "cell_type": "code",
      "metadata": {
        "id": "EztZTgBYNPt9",
        "colab_type": "code",
        "colab": {}
      },
      "source": [
        "# submission_rfc = pd.DataFrame()\n",
        "# submission_rfc['TransactionId'] = test_transaction_id\n",
        "# submission_rfc['FraudResult'] = y_rfc_submission"
      ],
      "execution_count": 0,
      "outputs": []
    },
    {
      "cell_type": "code",
      "metadata": {
        "id": "dKgGz0-rbprQ",
        "colab_type": "code",
        "colab": {}
      },
      "source": [
        "# submission_rfc.to_csv('./RFC_Detection_Final.csv', index=False)"
      ],
      "execution_count": 0,
      "outputs": []
    },
    {
      "cell_type": "markdown",
      "metadata": {
        "id": "OBdEaA6hYLA4",
        "colab_type": "text"
      },
      "source": [
        "Lowest score from Logistic Regression classifier."
      ]
    },
    {
      "cell_type": "code",
      "metadata": {
        "id": "pJWNxOAOLdX7",
        "colab_type": "code",
        "colab": {}
      },
      "source": [
        "y_log_reg_submission = log_reg2.predict(test_transformed2)"
      ],
      "execution_count": 0,
      "outputs": []
    },
    {
      "cell_type": "code",
      "metadata": {
        "id": "IFCZTQTQXLX-",
        "colab_type": "code",
        "colab": {}
      },
      "source": [
        "submission_log = pd.DataFrame()\n",
        "submission_log['TransactionId'] = test_transaction_id\n",
        "submission_log['FraudResult'] = y_log_reg_submission"
      ],
      "execution_count": 0,
      "outputs": []
    },
    {
      "cell_type": "code",
      "metadata": {
        "id": "38nXhdGkXMHZ",
        "colab_type": "code",
        "colab": {}
      },
      "source": [
        "submission_log.to_csv('./LogR_Detection_Final.csv', index=False)"
      ],
      "execution_count": 0,
      "outputs": []
    },
    {
      "cell_type": "code",
      "metadata": {
        "id": "OYw1aZNXXrtp",
        "colab_type": "code",
        "colab": {}
      },
      "source": [
        ""
      ],
      "execution_count": 0,
      "outputs": []
    }
  ]
}